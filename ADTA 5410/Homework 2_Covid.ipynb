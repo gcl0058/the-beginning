{
 "cells": [
  {
   "cell_type": "markdown",
   "id": "74054993-8323-4126-9d53-83bb2b10d5a5",
   "metadata": {},
   "source": [
    "<img src=\"https://webassets.unt.edu/assets/branding/unt-stacked-logo.svg\" alt=\"UNT | University of North Texas\" class=\"desktop-logo\" width=\"300\" height=\"500\">"
   ]
  },
  {
   "cell_type": "markdown",
   "id": "a4c3f794-02ed-43cd-931e-c6976be268fa",
   "metadata": {},
   "source": [
    "# Homework 2"
   ]
  },
  {
   "cell_type": "markdown",
   "id": "51bf18b5-6385-4f73-bff9-8268c590534f",
   "metadata": {},
   "source": [
    "#### Prepared by Orhan Erdem </strong> </div>\n",
    "<br><div style=\"text-align: left\"><strong>Datasets:</strong> </div>\n",
    "<br> In this exercise we will be dealing with COVID data from ourworldindata.org"
   ]
  },
  {
   "cell_type": "code",
   "execution_count": null,
   "id": "4db7256d",
   "metadata": {},
   "outputs": [],
   "source": [
    "pip install owid-catalog"
   ]
  },
  {
   "cell_type": "code",
   "execution_count": null,
   "id": "84c47c9e",
   "metadata": {},
   "outputs": [],
   "source": [
    "from owid import catalog"
   ]
  },
  {
   "cell_type": "code",
   "execution_count": null,
   "id": "5fd2fd4a",
   "metadata": {},
   "outputs": [],
   "source": [
    "#Question 3 for Groups 0-4\n",
    "rc = catalog.RemoteCatalog()\n",
    "uri = \"garden/covid/latest/cases_deaths/cases_deaths\"\n",
    "df = rc[uri]"
   ]
  },
  {
   "cell_type": "code",
   "execution_count": null,
   "id": "9624f1d3",
   "metadata": {},
   "outputs": [],
   "source": [
    "#Question 4\n",
    "df.head(6)"
   ]
  },
  {
   "cell_type": "code",
   "execution_count": null,
   "id": "a950c01f",
   "metadata": {},
   "outputs": [],
   "source": [
    "df.shape"
   ]
  },
  {
   "cell_type": "code",
   "execution_count": null,
   "id": "da4883ec",
   "metadata": {},
   "outputs": [],
   "source": [
    "df.columns"
   ]
  },
  {
   "cell_type": "code",
   "execution_count": null,
   "id": "25829823",
   "metadata": {},
   "outputs": [],
   "source": [
    "#Question 5\n",
    "\n",
    "my_country = df.loc['...'] #TODO: Enter the country you are assigned in ['...'] here. For example, United States\n",
    "my_country.head()"
   ]
  },
  {
   "cell_type": "code",
   "execution_count": null,
   "id": "d240ab82-ad95-435d-ab82-985d05fd4e4b",
   "metadata": {},
   "outputs": [],
   "source": [
    "my_country.shape"
   ]
  },
  {
   "cell_type": "code",
   "execution_count": null,
   "id": "b57efd4a-24de-4a99-b69e-3de0609d0a92",
   "metadata": {},
   "outputs": [],
   "source": [
    "#Question 6\n",
    "# Calculate descriptive statistics for:\n",
    "#Groups 0-4 should use 'total_cases_per_million' in the [] below\n",
    "#Groups 5-9 should use 'total_deaths_per_million' in the [] below\n",
    "\n",
    "descriptive_stats = my_country['total_cases_per_million'].describe()\n",
    "print(descriptive_stats)"
   ]
  },
  {
   "cell_type": "code",
   "execution_count": null,
   "id": "f64a0c6c-549e-4ce4-8d74-0c208e7e3027",
   "metadata": {},
   "outputs": [],
   "source": []
  }
 ],
 "metadata": {
  "kernelspec": {
   "display_name": "Python 3 (ipykernel)",
   "language": "python",
   "name": "python3"
  },
  "language_info": {
   "codemirror_mode": {
    "name": "ipython",
    "version": 3
   },
   "file_extension": ".py",
   "mimetype": "text/x-python",
   "name": "python",
   "nbconvert_exporter": "python",
   "pygments_lexer": "ipython3",
   "version": "3.11.10"
  }
 },
 "nbformat": 4,
 "nbformat_minor": 5
}
