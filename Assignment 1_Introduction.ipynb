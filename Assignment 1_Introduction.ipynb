{
 "cells": [
  {
   "cell_type": "code",
   "execution_count": null,
   "id": "ca7f4723-0054-49bb-b56c-cbed2f27b9c8",
   "metadata": {},
   "outputs": [],
   "source": [
    "# Introduction to Python Basics\n",
    "# Welcome to this introductory notebook! Complete the tasks marked as 'TODO' to learn Python fundamentals."
   ]
  },
  {
   "cell_type": "code",
   "execution_count": null,
   "id": "ff4ab98c-c00f-4393-a31d-db5bb52fe3dc",
   "metadata": {
    "scrolled": true
   },
   "outputs": [],
   "source": [
    "# 1. Variables and Data Types\n",
    "# TODO: Change the value of 'name' to your own name and run the cell.\n",
    "name = \"Student\" #Change this to your own name\n",
    "age = 20  # Change this to your age\n",
    "height = 5.7  # Change this to your height in cm (1 foot = 30.48 cm)\n",
    "id= 1234 #Change this to your real student ID. It is important for grading purposes\n",
    "\n",
    "print(f\"Hello, my name is {name}. My student id is {id}. I am {age} years old and {height} feet tall.\")"
   ]
  },
  {
   "cell_type": "code",
   "execution_count": null,
   "id": "6de0c004-5ab2-40f5-953d-8853606a4eff",
   "metadata": {},
   "outputs": [],
   "source": [
    "# 2. Basic Arithmetic\n",
    "# TODO: Modify the numbers and see the output.\n",
    "w = 90 # Change this to your weight in kg\n",
    "h = 175  # Change this to your height in cm.  (1 inch=2.54 cm)\n",
    "\n",
    "addition = w + w\n",
    "subtraction = h - 100\n",
    "h_sq = h * h\n",
    "bmi = w / h_sq\n",
    "\n",
    "print(\"Addition:\", addition)\n",
    "print(\"Subtraction:\", subtraction)\n",
    "print(\"Height Square:\", h_sq)\n",
    "print(\"Body Mass Index:\", bmi)"
   ]
  },
  {
   "cell_type": "code",
   "execution_count": null,
   "id": "983656e6-851b-4018-8c07-ff1b43c5d8f4",
   "metadata": {},
   "outputs": [],
   "source": [
    "# 3. Lists\n",
    "# TODO: Add one more fruit to the list.\n",
    "fruits = [\"apple\", \"banana\", \"cherry\"]\n",
    "fruits.append(\"mango\")  # Add your favorite fruit here\n",
    "\n",
    "print(\"Updated fruits list:\", fruits)\n"
   ]
  },
  {
   "cell_type": "code",
   "execution_count": null,
   "id": "e4d8f4a6-d783-4dee-87ed-e94fb7c94bef",
   "metadata": {},
   "outputs": [],
   "source": [
    "# 4. Loops\n",
    "# TODO: Use a loop to print each fruit in uppercase.\n",
    "for fruit in fruits:\n",
    "    print(fruit.upper())"
   ]
  },
  {
   "cell_type": "code",
   "execution_count": null,
   "id": "bb6dc6e7-5508-426f-9e2b-7c843c68ec74",
   "metadata": {},
   "outputs": [],
   "source": [
    "# 5. Functions\n",
    "# TODO: Create a new function that returns the square of a number.\n",
    "def greet(name):\n",
    "    return f\"Hello, {name}!\"\n",
    "\n",
    "def square(number):\n",
    "    return number ** ____  # Replace this \"____\" with your implementation. What number should we put here?\n",
    "\n",
    "print(greet(name))\n",
    "print(\"Square of your age is:\", square(age))"
   ]
  },
  {
   "cell_type": "code",
   "execution_count": null,
   "id": "988c614b-b7f2-404c-a8c5-f4c1ff5b0b8a",
   "metadata": {},
   "outputs": [],
   "source": [
    "# 6. Dictionaries\n",
    "# TODO: Add a new key-value pair for 'grade'.\n",
    "student_info = {\n",
    "    \"name\": name,\n",
    "    \"age\": age,\n",
    "    \"major\": \"Computer Science\"\n",
    "}\n",
    "student_info[\"grade\"] = \"A\"  # Add grade here\n",
    "\n",
    "print(\"Student Info:\", student_info)"
   ]
  },
  {
   "cell_type": "code",
   "execution_count": null,
   "id": "9abede9d-8894-45d5-a4f5-e51bc4b4e5a1",
   "metadata": {},
   "outputs": [],
   "source": [
    "# 7. Libraries\n",
    "# TODO: Use numpy to create an array and perform an operation on it.\n",
    "import numpy as np\n",
    "\n",
    "array = np.array([1, 2, 3, 4, 5])\n",
    "array_squared = array ** 2\n",
    "\n",
    "print(\"Original Array:\", array)\n",
    "print(\"Squared Array:\", array_squared)"
   ]
  },
  {
   "cell_type": "code",
   "execution_count": null,
   "id": "94d140e7-0712-4c74-b452-86a890d6e451",
   "metadata": {},
   "outputs": [],
   "source": []
  }
 ],
 "metadata": {
  "kernelspec": {
   "display_name": "Python 3 (ipykernel)",
   "language": "python",
   "name": "python3"
  },
  "language_info": {
   "codemirror_mode": {
    "name": "ipython",
    "version": 3
   },
   "file_extension": ".py",
   "mimetype": "text/x-python",
   "name": "python",
   "nbconvert_exporter": "python",
   "pygments_lexer": "ipython3",
   "version": "3.11.10"
  }
 },
 "nbformat": 4,
 "nbformat_minor": 5
}
